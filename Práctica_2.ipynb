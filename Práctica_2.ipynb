{
  "nbformat": 4,
  "nbformat_minor": 0,
  "metadata": {
    "colab": {
      "name": "Práctica 2?",
      "provenance": [],
      "collapsed_sections": [
        "e327UwRyormE",
        "_XG3rj61apE6",
        "kc2l6LpYRkBR",
        "WpQ13pYWvX0o"
      ],
      "include_colab_link": true
    },
    "kernelspec": {
      "name": "python3",
      "display_name": "Python 3"
    },
    "language_info": {
      "name": "python"
    }
  },
  "cells": [
    {
      "cell_type": "markdown",
      "metadata": {
        "id": "view-in-github",
        "colab_type": "text"
      },
      "source": [
        "<a href=\"https://colab.research.google.com/github/Dani-Arizmendi/AA_PRACTICA2_GRUPO_3/blob/main/Pr%C3%A1ctica_2.ipynb\" target=\"_parent\"><img src=\"https://colab.research.google.com/assets/colab-badge.svg\" alt=\"Open In Colab\"/></a>"
      ]
    },
    {
      "cell_type": "markdown",
      "metadata": {
        "id": "e327UwRyormE"
      },
      "source": [
        "# Importamos Keras y las librerías necesarias"
      ]
    },
    {
      "cell_type": "code",
      "metadata": {
        "colab": {
          "base_uri": "https://localhost:8080/"
        },
        "id": "Da4NLhoQn2Pf",
        "outputId": "7b493120-1394-4820-c13b-431b5cc2ac44"
      },
      "source": [
        "%tensorflow_version 2.x\n",
        "import tensorflow as tf\n",
        "from tensorflow import keras\n",
        "\n",
        "import numpy as np\n",
        "import matplotlib.pyplot as plt\n",
        "from keras.utils.vis_utils import plot_model\n",
        "\n",
        "print(tf.__version__)#"
      ],
      "execution_count": null,
      "outputs": [
        {
          "output_type": "stream",
          "name": "stdout",
          "text": [
            "2.7.0\n"
          ]
        }
      ]
    },
    {
      "cell_type": "code",
      "metadata": {
        "id": "Gyv1W150n4F0"
      },
      "source": [
        "from tensorflow.keras import Sequential\n",
        "from tensorflow.keras.layers import Conv2D\n",
        "from tensorflow.keras.layers import MaxPooling2D\n",
        "from tensorflow.keras.layers import Dense\n",
        "from tensorflow.keras.layers import Flatten"
      ],
      "execution_count": null,
      "outputs": []
    },
    {
      "cell_type": "markdown",
      "metadata": {
        "id": "_XG3rj61apE6"
      },
      "source": [
        "#Cargamos el set de datos y lo analizamos"
      ]
    },
    {
      "cell_type": "code",
      "metadata": {
        "colab": {
          "base_uri": "https://localhost:8080/"
        },
        "id": "NNuNpbS7YiWG",
        "outputId": "234d0ba0-0808-498a-8909-72982012576b"
      },
      "source": [
        "mnist = tf.keras.datasets.mnist\n",
        "(train_images, train_labels), (test_images, test_labels) = mnist.load_data()\n",
        "\n",
        "print (train_images.shape)\n",
        "print (train_labels.shape)\n",
        "\n",
        "\n",
        "#test_images1 = test_images.astype('float32') / 255\n",
        "\n",
        "train_images = train_images.reshape((60000, 28, 28, 1))\n",
        "train_images = train_images.astype('float32') / 255\n",
        "\n",
        "test_images = test_images.reshape((10000, 28, 28, 1))\n",
        "test_images = test_images.astype('float32') / 255\n",
        "\n",
        "\n",
        "print (train_images.shape)\n",
        "print (train_labels.shape)\n",
        "\n",
        "class_names = ['T-shirt/top', 'Trouser', 'Pullover', 'Dress', 'Coat',\n",
        "               'Sandal', 'Shirt', 'Sneaker', 'Bag', 'Ankle boot']"
      ],
      "execution_count": null,
      "outputs": [
        {
          "output_type": "stream",
          "name": "stdout",
          "text": [
            "Downloading data from https://storage.googleapis.com/tensorflow/tf-keras-datasets/mnist.npz\n",
            "11493376/11490434 [==============================] - 0s 0us/step\n",
            "11501568/11490434 [==============================] - 0s 0us/step\n",
            "(60000, 28, 28)\n",
            "(60000,)\n",
            "(60000, 28, 28, 1)\n",
            "(60000,)\n"
          ]
        }
      ]
    },
    {
      "cell_type": "markdown",
      "metadata": {
        "id": "0CYiEJj55dVj"
      },
      "source": [
        "#Apartado 1, 2, 3, 4 y 5"
      ]
    },
    {
      "cell_type": "markdown",
      "metadata": {
        "id": "4czWdFEfPbOm"
      },
      "source": [
        "## Modelo 1"
      ]
    },
    {
      "cell_type": "code",
      "metadata": {
        "id": "oSNrEqScPbOn",
        "colab": {
          "base_uri": "https://localhost:8080/"
        },
        "outputId": "f8bffa8b-144a-4414-f380-86413900fea7"
      },
      "source": [
        "modelo1 = Sequential()\n",
        "modelo1.add(Conv2D(32, (5, 5), activation='relu', input_shape=(28, 28, 1)))\n",
        "modelo1.add(MaxPooling2D((2, 2)))\n",
        "\n",
        "modelo1.add(Conv2D(64, (5, 5), activation='relu'))\n",
        "modelo1.add(MaxPooling2D((2, 2)))\n",
        "\n",
        "modelo1.add(Flatten())\n",
        "modelo1.add(Dense(10, activation='softmax'))\n",
        "modelo1.summary()"
      ],
      "execution_count": null,
      "outputs": [
        {
          "output_type": "stream",
          "name": "stdout",
          "text": [
            "Model: \"sequential\"\n",
            "_________________________________________________________________\n",
            " Layer (type)                Output Shape              Param #   \n",
            "=================================================================\n",
            " conv2d (Conv2D)             (None, 24, 24, 32)        832       \n",
            "                                                                 \n",
            " max_pooling2d (MaxPooling2D  (None, 12, 12, 32)       0         \n",
            " )                                                               \n",
            "                                                                 \n",
            " conv2d_1 (Conv2D)           (None, 8, 8, 64)          51264     \n",
            "                                                                 \n",
            " max_pooling2d_1 (MaxPooling  (None, 4, 4, 64)         0         \n",
            " 2D)                                                             \n",
            "                                                                 \n",
            " flatten (Flatten)           (None, 1024)              0         \n",
            "                                                                 \n",
            " dense (Dense)               (None, 10)                10250     \n",
            "                                                                 \n",
            "=================================================================\n",
            "Total params: 62,346\n",
            "Trainable params: 62,346\n",
            "Non-trainable params: 0\n",
            "_________________________________________________________________\n"
          ]
        }
      ]
    },
    {
      "cell_type": "markdown",
      "metadata": {
        "id": "J6KyL_Pa24E7"
      },
      "source": [
        "MODELO 1 INTERPRETACIÓN DEL SUMMARY()\n",
        "\n",
        "> \n",
        "\n",
        "\n",
        "La primera capa es de tipo convolucional con un tensor 2D. Devuelve 32 matrices o filtros  de 24x24 que son 32 capas ocultas obteniendo 832 parámetros.\n",
        "El pooling que está a continuación hace una simplificación de la información obtenida y crea una versión condensada de la misma\n",
        "Hacemos max pooling a todas las capas, y como habíamos puesto que la ventana del pooling sea 2x2 reducimos el tamaño de las matrices a la mitad, obteniendo unas 12x12.\n",
        " Como después del pooling las matrices son 12x12 haciendo ventanas de 5x5 obtenemos matrices de 8x8 que son el resultado de aplicar la segunda capa convolucional, que en este caso tenía 64 filtros, es decir 64  capas ocultas, que dan lugar a 51264 filtros. Volvemos a aplicar el max pooling a esta segunda capa conv y con el mismo planteamiento que antes obtenemos  64 matrices 4x4.\n",
        "Aplicamos la capa Flatten a la que le entra una matriz de 3 dimensiones (24,24,64) y lo que hace es reducirla a una sola dimensión de 1024 elementos.\n",
        "Por último aplicamos una capa Dense a la que le metemos todos los datos de la flatten y una función de activación Softmax. El número de parámetros de esta capa es de 10250  (10x1024 +10)  con una salida de un vector de 10.\n"
      ]
    },
    {
      "cell_type": "code",
      "metadata": {
        "id": "zWgiJoq3PbOp"
      },
      "source": [
        "modelo1.compile(loss='sparse_categorical_crossentropy',\n",
        "              optimizer='sgd',\n",
        "              metrics=['accuracy'])\n"
      ],
      "execution_count": null,
      "outputs": []
    },
    {
      "cell_type": "code",
      "metadata": {
        "id": "vg1OejYqPbOq",
        "colab": {
          "base_uri": "https://localhost:8080/"
        },
        "outputId": "03f43a60-71df-4646-f0fd-7ea1b22cd6cf"
      },
      "source": [
        "modelo1.fit(train_images, train_labels,\n",
        "          batch_size=100,\n",
        "          epochs=5,\n",
        "          verbose=1)"
      ],
      "execution_count": null,
      "outputs": [
        {
          "output_type": "stream",
          "name": "stdout",
          "text": [
            "Epoch 1/5\n",
            "600/600 [==============================] - 50s 83ms/step - loss: 0.9351 - accuracy: 0.7608\n",
            "Epoch 2/5\n",
            "600/600 [==============================] - 50s 83ms/step - loss: 0.2668 - accuracy: 0.9210\n",
            "Epoch 3/5\n",
            "600/600 [==============================] - 50s 83ms/step - loss: 0.1920 - accuracy: 0.9433\n",
            "Epoch 4/5\n",
            "600/600 [==============================] - 50s 83ms/step - loss: 0.1543 - accuracy: 0.9545\n",
            "Epoch 5/5\n",
            "600/600 [==============================] - 50s 83ms/step - loss: 0.1304 - accuracy: 0.9608\n"
          ]
        },
        {
          "output_type": "execute_result",
          "data": {
            "text/plain": [
              "<keras.callbacks.History at 0x7f17c3f20590>"
            ]
          },
          "metadata": {},
          "execution_count": 7
        }
      ]
    },
    {
      "cell_type": "code",
      "metadata": {
        "id": "4hOQI_lRPbOq",
        "colab": {
          "base_uri": "https://localhost:8080/"
        },
        "outputId": "08c9e7a8-2e84-4f04-a9c0-4d68594408c1"
      },
      "source": [
        "test_loss, test_acc = modelo1.evaluate(test_images, test_labels)\n",
        "\n",
        "print('Test accuracy:', test_acc)"
      ],
      "execution_count": null,
      "outputs": [
        {
          "output_type": "stream",
          "name": "stdout",
          "text": [
            "313/313 [==============================] - 3s 9ms/step - loss: 0.1089 - accuracy: 0.9698\n",
            "Test accuracy: 0.9697999954223633\n"
          ]
        }
      ]
    },
    {
      "cell_type": "markdown",
      "metadata": {
        "id": "qs2yZwuPLzUc"
      },
      "source": [
        "Durante el entrenamiento obtenemos una precisión del 96,08% mientras que en el test es de 96,98%\n"
      ]
    },
    {
      "cell_type": "markdown",
      "metadata": {
        "id": "WYZWGXlw57AI"
      },
      "source": [
        "## Modelo 1 con 25 épocas"
      ]
    },
    {
      "cell_type": "code",
      "metadata": {
        "colab": {
          "base_uri": "https://localhost:8080/"
        },
        "id": "3REQ2VVa57AK",
        "outputId": "78000dd8-23a8-41a3-ae42-bf6134951a16"
      },
      "source": [
        "modelo1b = Sequential()\n",
        "modelo1b.add(Conv2D(32, (5, 5), activation='relu', input_shape=(28, 28, 1)))\n",
        "modelo1b.add(MaxPooling2D((2, 2)))\n",
        "\n",
        "modelo1b.add(Conv2D(64, (5, 5), activation='relu'))\n",
        "modelo1b.add(MaxPooling2D((2, 2)))\n",
        "\n",
        "modelo1b.add(Flatten())\n",
        "modelo1b.add(Dense(10, activation='softmax'))\n",
        "modelo1b.summary()"
      ],
      "execution_count": null,
      "outputs": [
        {
          "output_type": "stream",
          "name": "stdout",
          "text": [
            "Model: \"sequential_1\"\n",
            "_________________________________________________________________\n",
            " Layer (type)                Output Shape              Param #   \n",
            "=================================================================\n",
            " conv2d_2 (Conv2D)           (None, 24, 24, 32)        832       \n",
            "                                                                 \n",
            " max_pooling2d_2 (MaxPooling  (None, 12, 12, 32)       0         \n",
            " 2D)                                                             \n",
            "                                                                 \n",
            " conv2d_3 (Conv2D)           (None, 8, 8, 64)          51264     \n",
            "                                                                 \n",
            " max_pooling2d_3 (MaxPooling  (None, 4, 4, 64)         0         \n",
            " 2D)                                                             \n",
            "                                                                 \n",
            " flatten_1 (Flatten)         (None, 1024)              0         \n",
            "                                                                 \n",
            " dense_1 (Dense)             (None, 10)                10250     \n",
            "                                                                 \n",
            "=================================================================\n",
            "Total params: 62,346\n",
            "Trainable params: 62,346\n",
            "Non-trainable params: 0\n",
            "_________________________________________________________________\n"
          ]
        }
      ]
    },
    {
      "cell_type": "code",
      "metadata": {
        "id": "lycF8yBj57AO"
      },
      "source": [
        "modelo1b.compile(loss='sparse_categorical_crossentropy',\n",
        "              optimizer='sgd',\n",
        "              metrics=['accuracy'])\n"
      ],
      "execution_count": null,
      "outputs": []
    },
    {
      "cell_type": "code",
      "metadata": {
        "colab": {
          "base_uri": "https://localhost:8080/"
        },
        "id": "YMPM5Sun57AP",
        "outputId": "f6ec6448-bdab-43f5-e36d-a17d473e8123"
      },
      "source": [
        "modelo1b.fit(train_images, train_labels,\n",
        "          batch_size=100,\n",
        "          epochs=25,\n",
        "          verbose=1)"
      ],
      "execution_count": null,
      "outputs": [
        {
          "output_type": "stream",
          "name": "stdout",
          "text": [
            "Epoch 1/25\n",
            "600/600 [==============================] - 51s 84ms/step - loss: 0.9101 - accuracy: 0.7649\n",
            "Epoch 2/25\n",
            "600/600 [==============================] - 50s 84ms/step - loss: 0.2567 - accuracy: 0.9251\n",
            "Epoch 3/25\n",
            "600/600 [==============================] - 50s 83ms/step - loss: 0.1861 - accuracy: 0.9456\n",
            "Epoch 4/25\n",
            "600/600 [==============================] - 51s 85ms/step - loss: 0.1493 - accuracy: 0.9562\n",
            "Epoch 5/25\n",
            "600/600 [==============================] - 51s 85ms/step - loss: 0.1272 - accuracy: 0.9636\n",
            "Epoch 6/25\n",
            "600/600 [==============================] - 51s 85ms/step - loss: 0.1113 - accuracy: 0.9679\n",
            "Epoch 7/25\n",
            "600/600 [==============================] - 51s 85ms/step - loss: 0.1002 - accuracy: 0.9706\n",
            "Epoch 8/25\n",
            "600/600 [==============================] - 51s 85ms/step - loss: 0.0916 - accuracy: 0.9732\n",
            "Epoch 9/25\n",
            "600/600 [==============================] - 51s 85ms/step - loss: 0.0850 - accuracy: 0.9748\n",
            "Epoch 10/25\n",
            "600/600 [==============================] - 51s 85ms/step - loss: 0.0791 - accuracy: 0.9763\n",
            "Epoch 11/25\n",
            "600/600 [==============================] - 51s 85ms/step - loss: 0.0746 - accuracy: 0.9778\n",
            "Epoch 12/25\n",
            "600/600 [==============================] - 51s 85ms/step - loss: 0.0704 - accuracy: 0.9794\n",
            "Epoch 13/25\n",
            "600/600 [==============================] - 51s 85ms/step - loss: 0.0672 - accuracy: 0.9800\n",
            "Epoch 14/25\n",
            "600/600 [==============================] - 51s 85ms/step - loss: 0.0639 - accuracy: 0.9807\n",
            "Epoch 15/25\n",
            "600/600 [==============================] - 51s 85ms/step - loss: 0.0611 - accuracy: 0.9814\n",
            "Epoch 16/25\n",
            "600/600 [==============================] - 51s 85ms/step - loss: 0.0582 - accuracy: 0.9831\n",
            "Epoch 17/25\n",
            "600/600 [==============================] - 51s 85ms/step - loss: 0.0566 - accuracy: 0.9834\n",
            "Epoch 18/25\n",
            "600/600 [==============================] - 51s 85ms/step - loss: 0.0540 - accuracy: 0.9839\n",
            "Epoch 19/25\n",
            "600/600 [==============================] - 51s 85ms/step - loss: 0.0524 - accuracy: 0.9844\n",
            "Epoch 20/25\n",
            "600/600 [==============================] - 51s 85ms/step - loss: 0.0508 - accuracy: 0.9849\n",
            "Epoch 21/25\n",
            "600/600 [==============================] - 51s 85ms/step - loss: 0.0493 - accuracy: 0.9848\n",
            "Epoch 22/25\n",
            "600/600 [==============================] - 51s 85ms/step - loss: 0.0480 - accuracy: 0.9852\n",
            "Epoch 23/25\n",
            "600/600 [==============================] - 51s 85ms/step - loss: 0.0463 - accuracy: 0.9861\n",
            "Epoch 24/25\n",
            "600/600 [==============================] - 51s 85ms/step - loss: 0.0456 - accuracy: 0.9861\n",
            "Epoch 25/25\n",
            "600/600 [==============================] - 51s 85ms/step - loss: 0.0438 - accuracy: 0.9869\n"
          ]
        },
        {
          "output_type": "execute_result",
          "data": {
            "text/plain": [
              "<keras.callbacks.History at 0x7fd8b751f710>"
            ]
          },
          "metadata": {},
          "execution_count": 10
        }
      ]
    },
    {
      "cell_type": "code",
      "metadata": {
        "colab": {
          "base_uri": "https://localhost:8080/"
        },
        "id": "ldvg66_a57AP",
        "outputId": "e8e09851-a44b-4733-9886-41e54558fb87"
      },
      "source": [
        "test_loss, test_acc = modelo1b.evaluate(test_images, test_labels)\n",
        "\n",
        "print('Test accuracy:', test_acc)"
      ],
      "execution_count": null,
      "outputs": [
        {
          "output_type": "stream",
          "name": "stdout",
          "text": [
            "313/313 [==============================] - 3s 9ms/step - loss: 0.0428 - accuracy: 0.9863\n",
            "Test accuracy: 0.986299991607666\n"
          ]
        }
      ]
    },
    {
      "cell_type": "markdown",
      "metadata": {
        "id": "6V7DgTddL-2O"
      },
      "source": [
        "Durante el entrenamiento obtenemos una precisión del 98,69% mientras que en el test es de 98,63%\n"
      ]
    },
    {
      "cell_type": "markdown",
      "metadata": {
        "id": "K3znWszD57AQ"
      },
      "source": [
        "AUMENTAR LOS ENTRENAMIENTOS\n",
        "\n",
        "Con 5 entrenos obtenemos una precisión de 0.968, un valor muy alto para las pocas épocas que realizamos.\n",
        "Como es de esperar, al aumentar las épocas aumenta la precisión a 0,986\n"
      ]
    },
    {
      "cell_type": "markdown",
      "metadata": {
        "id": "FhqhQ_XR6Q3d"
      },
      "source": [
        "## Modelo 1 con función tanh"
      ]
    },
    {
      "cell_type": "code",
      "metadata": {
        "colab": {
          "base_uri": "https://localhost:8080/"
        },
        "id": "T1tGvr0D6Q3e",
        "outputId": "2c3dba04-62b2-451a-b9f3-6c6120c548d9"
      },
      "source": [
        "modelo1c = Sequential()\n",
        "modelo1c.add(Conv2D(32, (5, 5), activation='tanh', input_shape=(28, 28, 1)))\n",
        "modelo1c.add(MaxPooling2D((2, 2)))\n",
        "\n",
        "modelo1c.add(Conv2D(64, (5, 5), activation='tanh'))\n",
        "modelo1c.add(MaxPooling2D((2, 2)))\n",
        "\n",
        "modelo1c.add(Flatten())\n",
        "modelo1c.add(Dense(10, activation='softmax'))\n",
        "modelo1c.summary()"
      ],
      "execution_count": null,
      "outputs": [
        {
          "output_type": "stream",
          "name": "stdout",
          "text": [
            "Model: \"sequential\"\n",
            "_________________________________________________________________\n",
            " Layer (type)                Output Shape              Param #   \n",
            "=================================================================\n",
            " conv2d (Conv2D)             (None, 24, 24, 32)        832       \n",
            "                                                                 \n",
            " max_pooling2d (MaxPooling2D  (None, 12, 12, 32)       0         \n",
            " )                                                               \n",
            "                                                                 \n",
            " conv2d_1 (Conv2D)           (None, 8, 8, 64)          51264     \n",
            "                                                                 \n",
            " max_pooling2d_1 (MaxPooling  (None, 4, 4, 64)         0         \n",
            " 2D)                                                             \n",
            "                                                                 \n",
            " flatten (Flatten)           (None, 1024)              0         \n",
            "                                                                 \n",
            " dense (Dense)               (None, 10)                10250     \n",
            "                                                                 \n",
            "=================================================================\n",
            "Total params: 62,346\n",
            "Trainable params: 62,346\n",
            "Non-trainable params: 0\n",
            "_________________________________________________________________\n"
          ]
        }
      ]
    },
    {
      "cell_type": "code",
      "metadata": {
        "id": "cgbcCmfy6Q3f"
      },
      "source": [
        "modelo1c.compile(loss='sparse_categorical_crossentropy',\n",
        "              optimizer='sgd',\n",
        "              metrics=['accuracy'])\n"
      ],
      "execution_count": null,
      "outputs": []
    },
    {
      "cell_type": "code",
      "metadata": {
        "colab": {
          "base_uri": "https://localhost:8080/"
        },
        "id": "8SU7Zgf46Q3g",
        "outputId": "c6df4446-a037-45f1-bdbe-0bc49ce15692"
      },
      "source": [
        "modelo1c.fit(train_images, train_labels,\n",
        "          batch_size=100,\n",
        "          epochs=5,\n",
        "          verbose=1)"
      ],
      "execution_count": null,
      "outputs": [
        {
          "output_type": "stream",
          "name": "stdout",
          "text": [
            "Epoch 1/5\n",
            "600/600 [==============================] - 53s 87ms/step - loss: 0.9085 - accuracy: 0.7962\n",
            "Epoch 2/5\n",
            "600/600 [==============================] - 53s 88ms/step - loss: 0.3358 - accuracy: 0.9061\n",
            "Epoch 3/5\n",
            "600/600 [==============================] - 53s 89ms/step - loss: 0.2601 - accuracy: 0.9270\n",
            "Epoch 4/5\n",
            "600/600 [==============================] - 53s 89ms/step - loss: 0.2167 - accuracy: 0.9389\n",
            "Epoch 5/5\n",
            "600/600 [==============================] - 54s 89ms/step - loss: 0.1864 - accuracy: 0.9480\n"
          ]
        },
        {
          "output_type": "execute_result",
          "data": {
            "text/plain": [
              "<keras.callbacks.History at 0x7f171ee5d350>"
            ]
          },
          "metadata": {},
          "execution_count": 7
        }
      ]
    },
    {
      "cell_type": "code",
      "metadata": {
        "colab": {
          "base_uri": "https://localhost:8080/"
        },
        "id": "CvFBocm56Q3h",
        "outputId": "7e3e575a-63de-4a64-cc09-986725ef2bab"
      },
      "source": [
        "test_loss, test_acc = modelo1c.evaluate(test_images, test_labels)\n",
        "\n",
        "print('Test accuracy:', test_acc)"
      ],
      "execution_count": null,
      "outputs": [
        {
          "output_type": "stream",
          "name": "stdout",
          "text": [
            "313/313 [==============================] - 3s 10ms/step - loss: 0.1607 - accuracy: 0.9534\n",
            "Test accuracy: 0.9534000158309937\n"
          ]
        }
      ]
    },
    {
      "cell_type": "markdown",
      "metadata": {
        "id": "fm5aW55DMFx0"
      },
      "source": [
        "Durante el entrenamiento obtenemos una precisión del 94,8% mientras que en el test es de 95,34%\n"
      ]
    },
    {
      "cell_type": "markdown",
      "metadata": {
        "id": "6CerUk3Y6Q3h"
      },
      "source": [
        "Si cambiamos el modelo 1 y le ponemos la funcion de activacion tanh en vez de ReLu a las capas convolucionales, con 5 épocas obtenemos una precisión de entrenamiento del 0.953, que es ligeramente inferior a la obtenida con ReLu con 5 entrenamientos.\n",
        "\n"
      ]
    },
    {
      "cell_type": "markdown",
      "metadata": {
        "id": "EYnXhPuRRru5"
      },
      "source": [
        "## Modelo 2\n"
      ]
    },
    {
      "cell_type": "code",
      "metadata": {
        "id": "eHDLmJX4RsvJ",
        "colab": {
          "base_uri": "https://localhost:8080/"
        },
        "outputId": "bf78549b-b5d2-42d3-bf53-716e25507994"
      },
      "source": [
        "modelo2 = Sequential()\n",
        "modelo2.add(Conv2D(64, (7, 7), padding = \"same\", activation='relu', input_shape=(28, 28, 1)))\n",
        "modelo2.add(MaxPooling2D((2, 2)))\n",
        "\n",
        "modelo2.add(Conv2D(128, (3, 3), padding = \"same\", activation='relu'))\n",
        "modelo2.add(MaxPooling2D((2, 2)))\n",
        "\n",
        "modelo2.add(Flatten())\n",
        "modelo2.add(Dense(65, activation='relu'))\n",
        "modelo2.add(Dense(10, activation='softmax'))\n",
        "modelo2.summary()"
      ],
      "execution_count": null,
      "outputs": [
        {
          "output_type": "stream",
          "name": "stdout",
          "text": [
            "Model: \"sequential_3\"\n",
            "_________________________________________________________________\n",
            " Layer (type)                Output Shape              Param #   \n",
            "=================================================================\n",
            " conv2d_6 (Conv2D)           (None, 28, 28, 64)        3200      \n",
            "                                                                 \n",
            " max_pooling2d_6 (MaxPooling  (None, 14, 14, 64)       0         \n",
            " 2D)                                                             \n",
            "                                                                 \n",
            " conv2d_7 (Conv2D)           (None, 14, 14, 128)       73856     \n",
            "                                                                 \n",
            " max_pooling2d_7 (MaxPooling  (None, 7, 7, 128)        0         \n",
            " 2D)                                                             \n",
            "                                                                 \n",
            " flatten_3 (Flatten)         (None, 6272)              0         \n",
            "                                                                 \n",
            " dense_3 (Dense)             (None, 65)                407745    \n",
            "                                                                 \n",
            " dense_4 (Dense)             (None, 10)                660       \n",
            "                                                                 \n",
            "=================================================================\n",
            "Total params: 485,461\n",
            "Trainable params: 485,461\n",
            "Non-trainable params: 0\n",
            "_________________________________________________________________\n"
          ]
        }
      ]
    },
    {
      "cell_type": "markdown",
      "metadata": {
        "id": "2Ww6u_hb3R-p"
      },
      "source": [
        "MODELO 2 INTERPRETACIÓN DEL SUMMARY()\n",
        "\n",
        "La primera capa es de tipo convolucional con un tensor 2D.En teoría, tomaría ventanas 7x7 por lo que devolvería matrices de tamaño 22x22 (28-7+1). Sin embargo, al haber puesto ’padding’=same la salida devuelve  64 matrices o filtros de 28x28 que son 64 capas ocultas obteniendo 3200 parámetros, ya que esta función mete ceros en los extremos para compensar las posiciones restantes.\n",
        "El pooling que está a continuación hace una simplificación de la información obtenida y crea una versión condensada de la misma.\n",
        "Hacemos max pooling a todas las capas, y como habíamos puesto que la ventana del pooling sea 2x2 reducimos el tamaño de las matrices a la mitad, obteniendo unas 14x14.\n",
        "Volvemos a aplicar la segunda capa convolucional y por el mismo motivo que antes mantenemos el tamaño de las matrices, pero en este caso saca 128 filtros/ capas ocultas.\n",
        "Después de cada capa convolucional debemos aplicar el pooling, que al tener ventanas 2x2 reduce el tamaño de las matrices a 7x7 y mantiene el número de filtros.\n",
        "Aplicamos la capa Flatten a la que le entra una matriz de 3 dimensiones y la reduce a una sola dimensión con 6272 elementos.\n",
        "El siguiente paso es aplicar una capa Dense a la que le metemos todos los datos de la flatten, una función de activación Relu, y 65 elementos, lo que hace un total de  407745 parámetros ( 6272x65+65)\n",
        "Por último aplicamos una segunda capa dense en este caso con Función de activación softmax y 10 elementos y obtenemos una salida de 660 parámetros (65x10+10)\n"
      ]
    },
    {
      "cell_type": "code",
      "metadata": {
        "id": "YJL48iZVSPBT"
      },
      "source": [
        "modelo2.compile(loss='sparse_categorical_crossentropy',\n",
        "              optimizer='sgd',\n",
        "              metrics=['accuracy'])\n"
      ],
      "execution_count": null,
      "outputs": []
    },
    {
      "cell_type": "code",
      "metadata": {
        "id": "MJoEaaX4lv3W",
        "colab": {
          "base_uri": "https://localhost:8080/"
        },
        "outputId": "e01acf84-616a-4913-cab9-dbc88a794166"
      },
      "source": [
        "modelo2.fit(train_images, train_labels,\n",
        "          batch_size=100,\n",
        "          epochs=5,\n",
        "          verbose=1)"
      ],
      "execution_count": null,
      "outputs": [
        {
          "output_type": "stream",
          "name": "stdout",
          "text": [
            "Epoch 1/5\n",
            "600/600 [==============================] - 172s 286ms/step - loss: 0.9860 - accuracy: 0.7211\n",
            "Epoch 2/5\n",
            "600/600 [==============================] - 171s 286ms/step - loss: 0.2869 - accuracy: 0.9138\n",
            "Epoch 3/5\n",
            "600/600 [==============================] - 171s 285ms/step - loss: 0.2002 - accuracy: 0.9410\n",
            "Epoch 4/5\n",
            "600/600 [==============================] - 171s 285ms/step - loss: 0.1520 - accuracy: 0.9552\n",
            "Epoch 5/5\n",
            "600/600 [==============================] - 171s 286ms/step - loss: 0.1226 - accuracy: 0.9642\n"
          ]
        },
        {
          "output_type": "execute_result",
          "data": {
            "text/plain": [
              "<keras.callbacks.History at 0x7fd8b7222310>"
            ]
          },
          "metadata": {},
          "execution_count": 22
        }
      ]
    },
    {
      "cell_type": "code",
      "metadata": {
        "colab": {
          "base_uri": "https://localhost:8080/"
        },
        "id": "QjScB4HgcfYf",
        "outputId": "ffc75050-cb25-4bef-f880-e2e60cb8712d"
      },
      "source": [
        "test_loss, test_acc = modelo2.evaluate(test_images, test_labels)\n",
        "\n",
        "print('Test accuracy:', test_acc)"
      ],
      "execution_count": null,
      "outputs": [
        {
          "output_type": "stream",
          "name": "stdout",
          "text": [
            "313/313 [==============================] - 9s 27ms/step - loss: 0.0969 - accuracy: 0.9726\n",
            "Test accuracy: 0.972599983215332\n"
          ]
        }
      ]
    },
    {
      "cell_type": "markdown",
      "metadata": {
        "id": "2SL3kC3N0TKt"
      },
      "source": [
        "Durante el entrenamiento obtenemos una precisión del 96,42% mientras que en el test es de 97,26%\n"
      ]
    },
    {
      "cell_type": "markdown",
      "metadata": {
        "id": "YrQccpBJWMjc"
      },
      "source": [
        "## Modelo 3\n"
      ]
    },
    {
      "cell_type": "code",
      "metadata": {
        "id": "nAogs5CFWMjd",
        "colab": {
          "base_uri": "https://localhost:8080/"
        },
        "outputId": "0a3039b2-1d2b-483a-f03e-75d398a1a9c7"
      },
      "source": [
        "modelo3 = Sequential()\n",
        "modelo3.add(Conv2D(64, (7, 7), padding = \"same\", activation='relu', input_shape=(28, 28, 1)))\n",
        "modelo3.add(MaxPooling2D((2, 2)))\n",
        "\n",
        "modelo3.add(Conv2D(128, (3, 3), padding = \"same\", activation='relu'))\n",
        "modelo3.add(MaxPooling2D((2, 2)))\n",
        "\n",
        "modelo3.add(Flatten())\n",
        "modelo3.add(Dense(65, activation='relu'))\n",
        "modelo3.add(Dense(10, activation='softmax'))\n",
        "modelo3.summary()"
      ],
      "execution_count": null,
      "outputs": [
        {
          "output_type": "stream",
          "name": "stdout",
          "text": [
            "Model: \"sequential_4\"\n",
            "_________________________________________________________________\n",
            " Layer (type)                Output Shape              Param #   \n",
            "=================================================================\n",
            " conv2d_8 (Conv2D)           (None, 28, 28, 64)        3200      \n",
            "                                                                 \n",
            " max_pooling2d_8 (MaxPooling  (None, 14, 14, 64)       0         \n",
            " 2D)                                                             \n",
            "                                                                 \n",
            " conv2d_9 (Conv2D)           (None, 14, 14, 128)       73856     \n",
            "                                                                 \n",
            " max_pooling2d_9 (MaxPooling  (None, 7, 7, 128)        0         \n",
            " 2D)                                                             \n",
            "                                                                 \n",
            " flatten_4 (Flatten)         (None, 6272)              0         \n",
            "                                                                 \n",
            " dense_5 (Dense)             (None, 65)                407745    \n",
            "                                                                 \n",
            " dense_6 (Dense)             (None, 10)                660       \n",
            "                                                                 \n",
            "=================================================================\n",
            "Total params: 485,461\n",
            "Trainable params: 485,461\n",
            "Non-trainable params: 0\n",
            "_________________________________________________________________\n"
          ]
        }
      ]
    },
    {
      "cell_type": "markdown",
      "metadata": {
        "id": "VmQWvvC_3dDg"
      },
      "source": [
        "MODELO 3 INTERPRETACIÓN DEL SUMMARY()\n",
        "\n",
        "La primera capa es de tipo convolucional. En teoría, tomaría ventanas 7x7 por lo que devolvería matrices de tamaño 22x22 (28-7+1). Sin embargo, al haber puesto ’padding’=same la salida devuelve  64 matrices o filtros de 28x28 que son 64 capas ocultas obteniendo 3200 parámetros, ya que esta función mete ceros en los extremos para compensar las posiciones restantes.\n",
        "El pooling que está a continuación hace una simplificación de la información obtenida y crea una versión condensada de la misma.\n",
        "Hacemos max pooling a todas las capas, y como habíamos puesto que la ventana del pooling sea 2x2 reducimos el tamaño de las matrices a la mitad, obteniendo unas 14x14.\n",
        "Volvemos a aplicar una capa convolucional y como por el padding no reduce el tamaño sacamos 128 filtros de 14x14 y 73856  parámetros. Vovemos a aplicar el pooling y obtenemos los mismos filtros pero de dimensión 7x7 por lo explicado anteriormente.\n",
        "Aplicamos la capa Flatten a la que le entra una matriz de 3 dImensiones y la reduce a una sola dimensión con 6272 elementos.\n",
        "Después aplicamos la primera capa dense a la que le metemos todos los datos de la flatten, una función de activación Relu, y 65 elementos, lo que hace un total de  407745 parámetros ( 6272x65+65)\n",
        "Por último aplicamos una segunda capa dense en este caso con Función de activación softmax y 10 elementos y obtenemos una salida de 660 parámetros (65x10+10)\n"
      ]
    },
    {
      "cell_type": "code",
      "metadata": {
        "id": "7dMRQdl4WMje"
      },
      "source": [
        "modelo3.compile(loss='sparse_categorical_crossentropy',\n",
        "              optimizer='adam',\n",
        "              metrics=['accuracy'])\n"
      ],
      "execution_count": null,
      "outputs": []
    },
    {
      "cell_type": "code",
      "metadata": {
        "id": "lWCkxPMYWMjf",
        "colab": {
          "base_uri": "https://localhost:8080/"
        },
        "outputId": "67195eb1-7059-4ace-e3c6-d812ab3fa7c4"
      },
      "source": [
        "modelo3.fit(train_images, train_labels,\n",
        "          batch_size=100,\n",
        "          epochs=5,\n",
        "          verbose=1)"
      ],
      "execution_count": null,
      "outputs": [
        {
          "output_type": "stream",
          "name": "stdout",
          "text": [
            "Epoch 1/5\n",
            "600/600 [==============================] - 171s 284ms/step - loss: 0.1546 - accuracy: 0.9528\n",
            "Epoch 2/5\n",
            "600/600 [==============================] - 170s 283ms/step - loss: 0.0449 - accuracy: 0.9866\n",
            "Epoch 3/5\n",
            "600/600 [==============================] - 170s 283ms/step - loss: 0.0322 - accuracy: 0.9900\n",
            "Epoch 4/5\n",
            "600/600 [==============================] - 169s 282ms/step - loss: 0.0242 - accuracy: 0.9923\n",
            "Epoch 5/5\n",
            "600/600 [==============================] - 169s 282ms/step - loss: 0.0188 - accuracy: 0.9943\n"
          ]
        },
        {
          "output_type": "execute_result",
          "data": {
            "text/plain": [
              "<keras.callbacks.History at 0x7fd8b6fb28d0>"
            ]
          },
          "metadata": {},
          "execution_count": 26
        }
      ]
    },
    {
      "cell_type": "code",
      "metadata": {
        "id": "agL7o9vQWMjf",
        "colab": {
          "base_uri": "https://localhost:8080/"
        },
        "outputId": "9183fa83-0682-4c80-c7df-0e880fa1f7d2"
      },
      "source": [
        "test_loss, test_acc = modelo3.evaluate(test_images, test_labels)\n",
        "\n",
        "print('Test accuracy:', test_acc)"
      ],
      "execution_count": null,
      "outputs": [
        {
          "output_type": "stream",
          "name": "stdout",
          "text": [
            "313/313 [==============================] - 9s 27ms/step - loss: 0.0227 - accuracy: 0.9922\n",
            "Test accuracy: 0.9922000169754028\n"
          ]
        }
      ]
    },
    {
      "cell_type": "markdown",
      "metadata": {
        "id": "N4JPgLONMQl1"
      },
      "source": [
        "Durante el entrenamiento obtenemos una precisión del 99,43% mientras que en el test es de 99,22%\n"
      ]
    },
    {
      "cell_type": "markdown",
      "metadata": {
        "id": "kc2l6LpYRkBR"
      },
      "source": [
        "# Apartado 6   "
      ]
    },
    {
      "cell_type": "markdown",
      "metadata": {
        "id": "XdUEHxakm_SP"
      },
      "source": [
        " Primero comprobamos a que corresponde la 6º imagen de test\n",
        "\n",
        "\n"
      ]
    },
    {
      "cell_type": "code",
      "metadata": {
        "id": "QpOuPxGinrRU",
        "colab": {
          "base_uri": "https://localhost:8080/",
          "height": 37
        },
        "outputId": "ecbeec69-3cf0-4c0b-8208-2fd4ca422c43"
      },
      "source": [
        "tipo_de_prenda = test_labels[5]\n",
        "class_names[tipo_de_prenda]\n"
      ],
      "execution_count": null,
      "outputs": [
        {
          "output_type": "execute_result",
          "data": {
            "application/vnd.google.colaboratory.intrinsic+json": {
              "type": "string"
            },
            "text/plain": [
              "'Trouser'"
            ]
          },
          "metadata": {},
          "execution_count": 9
        }
      ]
    },
    {
      "cell_type": "markdown",
      "metadata": {
        "id": "iQRB-rhInsq6"
      },
      "source": [
        "Ahora usamos cada modelo para que nos muestre su predicción\n",
        "\n",
        "\n"
      ]
    },
    {
      "cell_type": "markdown",
      "metadata": {
        "id": "J_kiJ8tW8f3J"
      },
      "source": [
        "### Modelo 1\n"
      ]
    },
    {
      "cell_type": "code",
      "metadata": {
        "id": "DZBhtzlSR23W",
        "colab": {
          "base_uri": "https://localhost:8080/",
          "height": 37
        },
        "outputId": "04f67882-e473-470d-de2f-0696ab51eabd"
      },
      "source": [
        "\n",
        "predicciones1 = modelo1.predict(test_images)\n",
        "prediccion_prenda = np.argmax(predicciones1[5])\n",
        "class_names[prediccion_prenda]\n",
        "\n",
        "\n"
      ],
      "execution_count": null,
      "outputs": [
        {
          "output_type": "execute_result",
          "data": {
            "application/vnd.google.colaboratory.intrinsic+json": {
              "type": "string"
            },
            "text/plain": [
              "'Trouser'"
            ]
          },
          "metadata": {},
          "execution_count": 20
        }
      ]
    },
    {
      "cell_type": "markdown",
      "metadata": {
        "id": "-oB-QU-S8uMf"
      },
      "source": [
        "#### Conclusiones Modelo 1\n",
        "Como podemos observar el modelo predice que la sexta prenda es de tipo 'Trouser' . Este resultado tiene sentido puesto que el modelo 1 tiene una precisión del 96,17%"
      ]
    },
    {
      "cell_type": "markdown",
      "metadata": {
        "id": "zKc4f0ID9iZ9"
      },
      "source": [
        "### Modelo 2"
      ]
    },
    {
      "cell_type": "code",
      "metadata": {
        "colab": {
          "base_uri": "https://localhost:8080/",
          "height": 37
        },
        "id": "1GsVmDQI9Tk7",
        "outputId": "61d5b374-d604-4071-bc09-cf19832c0559"
      },
      "source": [
        "predicciones2 = modelo2.predict(test_images)\n",
        "prediccion_prenda = np.argmax(predicciones2[5])\n",
        "class_names[prediccion_prenda]\n"
      ],
      "execution_count": null,
      "outputs": [
        {
          "output_type": "execute_result",
          "data": {
            "application/vnd.google.colaboratory.intrinsic+json": {
              "type": "string"
            },
            "text/plain": [
              "'Trouser'"
            ]
          },
          "metadata": {},
          "execution_count": 30
        }
      ]
    },
    {
      "cell_type": "markdown",
      "metadata": {
        "id": "MR9YVl5y_837"
      },
      "source": [
        "#### Conclusiones Modelo 2\n",
        "El modelo predice que la sexta imagen pertenece al tipo 'Trouser'. Este resultado tiene sentido ya que nuestro modelo tiene una precisión del 96,42%"
      ]
    },
    {
      "cell_type": "markdown",
      "metadata": {
        "id": "k7gHW0XsAbRO"
      },
      "source": [
        "### Modelo 3"
      ]
    },
    {
      "cell_type": "code",
      "metadata": {
        "colab": {
          "base_uri": "https://localhost:8080/",
          "height": 37
        },
        "id": "znUIpHQsAgP5",
        "outputId": "327f5a8e-a026-4e04-cef5-6134dde7685f"
      },
      "source": [
        "predicciones3 = modelo3.predict(test_images)\n",
        "prediccion_prenda = np.argmax(predicciones3[5])\n",
        "class_names[prediccion_prenda]\n"
      ],
      "execution_count": null,
      "outputs": [
        {
          "output_type": "execute_result",
          "data": {
            "application/vnd.google.colaboratory.intrinsic+json": {
              "type": "string"
            },
            "text/plain": [
              "'Trouser'"
            ]
          },
          "metadata": {},
          "execution_count": 31
        }
      ]
    },
    {
      "cell_type": "markdown",
      "metadata": {
        "id": "gjB-YTS4BFnr"
      },
      "source": [
        "#### Conclusiones Modelo 3\n",
        "Como podemos observar el modelo predice que la sexta prenda es de tipo 'Pantalones' y se ajusta a la realidad, debido a la precisión del modelo que llega al 99,43%"
      ]
    },
    {
      "cell_type": "markdown",
      "metadata": {
        "id": "WpQ13pYWvX0o"
      },
      "source": [
        "#Apartado 7. Graficar modelos"
      ]
    },
    {
      "cell_type": "markdown",
      "metadata": {
        "id": "kkrt7b0UWkHZ"
      },
      "source": [
        "##Modelo 1"
      ]
    },
    {
      "cell_type": "code",
      "metadata": {
        "id": "9zOAd9DdVu9L"
      },
      "source": [
        "def plot_image(i, predicciones1, true_label, img):\n",
        "  predicciones1, true_label, img = predicciones1, true_label[i], img[i]\n",
        "  plt.grid(False)\n",
        "  plt.xticks([])\n",
        "  plt.yticks([])\n",
        "\n",
        "  plt.imshow(img, cmap=plt.cm.binary)\n",
        "\n",
        "  predicted_label = np.argmax(predicciones1)\n",
        "  if predicted_label == true_label:\n",
        "    color = 'blue'\n",
        "  else:\n",
        "    color = 'red'\n",
        "\n",
        "  plt.xlabel(\"{} {:2.0f}% ({})\".format(class_names[predicted_label],\n",
        "                                100*np.max(predicciones1),\n",
        "                                class_names[true_label]),\n",
        "                                color=color)\n",
        "\n",
        "def plot_value_array(i, predicciones1, true_label):\n",
        "  predicciones1, true_label = predicciones1, true_label[i]\n",
        "  plt.grid(False)\n",
        "  plt.xticks(range(10))\n",
        "  plt.yticks([])\n",
        "  thisplot = plt.bar(range(10), predicciones1, color=\"#777777\")\n",
        "  plt.ylim([0, 1])\n",
        "  predicted_label = np.argmax(predicciones1)\n",
        "\n",
        "  thisplot[predicted_label].set_color('red')\n",
        "  thisplot[true_label].set_color('blue')"
      ],
      "execution_count": null,
      "outputs": []
    },
    {
      "cell_type": "code",
      "metadata": {
        "id": "Pb6qgfn-YK6R",
        "colab": {
          "base_uri": "https://localhost:8080/",
          "height": 201
        },
        "outputId": "28b88ae6-227f-4993-e733-cebfc636a839"
      },
      "source": [
        "\n",
        "filas = 2\n",
        "cols = 7\n",
        "num_images = filas*cols\n",
        "plt.figure(figsize=(2*2*cols, 2*filas))\n",
        "for i in range(num_images):\n",
        "  plt.subplot(filas, 2*cols, 2*i+1)\n",
        "  plot_image(i, predicciones1[i], test_labels, test_images1)\n",
        "  plt.subplot(filas, 2*cols, 2*i+2)\n",
        "  plot_value_array(i, predicciones1[i], test_labels)\n",
        "plt.tight_layout()\n",
        "plt.show()"
      ],
      "execution_count": null,
      "outputs": [
        {
          "output_type": "display_data",
          "data": {
            "image/png": "[encoded data removed]",
            "text/plain": [
              "<Figure size 2016x288 with 28 Axes>"
            ]
          },
          "metadata": {
            "needs_background": "light"
          }
        }
      ]
    },
    {
      "cell_type": "markdown",
      "metadata": {
        "id": "84OlU8lcBn4o"
      },
      "source": [
        "El modelo 1 tiene una precisión de 96,17%. En este caso entre las 10 primeras imágenes acierta 10 de 10 lo que muestra un resultado bastante fiel al modelo."
      ]
    },
    {
      "cell_type": "markdown",
      "metadata": {
        "id": "iYYuhMT5W0Gi"
      },
      "source": [
        "##Modelo 2"
      ]
    },
    {
      "cell_type": "code",
      "metadata": {
        "id": "A-rvpHBoW3oA"
      },
      "source": [
        "def plot_image(i, predicciones2, true_label, img):\n",
        "  predicciones2, true_label, img = predicciones2, true_label[i], img[i]\n",
        "  plt.grid(False)\n",
        "  plt.xticks([])\n",
        "  plt.yticks([])\n",
        "\n",
        "  plt.imshow(img, cmap=plt.cm.binary)\n",
        "\n",
        "  predicted_label = np.argmax(predicciones2)\n",
        "  if predicted_label == true_label:\n",
        "    color = 'blue'\n",
        "  else:\n",
        "    color = 'red'\n",
        "\n",
        "  plt.xlabel(\"{} {:2.0f}% ({})\".format(class_names[predicted_label],\n",
        "                                100*np.max(predicciones2),\n",
        "                                class_names[true_label]),\n",
        "                                color=color)\n",
        "\n",
        "def plot_value_array(i, predicciones2, true_label):\n",
        "  predicciones2, true_label = predicciones2, true_label[i]\n",
        "  plt.grid(False)\n",
        "  plt.xticks(range(10))\n",
        "  plt.yticks([])\n",
        "  thisplot = plt.bar(range(10), predicciones2, color=\"#777777\")\n",
        "  plt.ylim([0, 1])\n",
        "  predicted_label = np.argmax(predicciones2)\n",
        "\n",
        "  thisplot[predicted_label].set_color('red')\n",
        "  thisplot[true_label].set_color('blue')"
      ],
      "execution_count": null,
      "outputs": []
    },
    {
      "cell_type": "code",
      "metadata": {
        "id": "5l1sDUF3-80o",
        "colab": {
          "base_uri": "https://localhost:8080/",
          "height": 317
        },
        "outputId": "51bd52cf-a37f-46bd-e725-011f4a2e3547"
      },
      "source": [
        "filas = 2\n",
        "cols = 7\n",
        "num_images = filas*cols\n",
        "plt.figure(figsize=(2*2*cols, 2*filas))\n",
        "for i in range(num_images):\n",
        "  plt.subplot(filas, 2*cols, 2*i+1)\n",
        "  plot_image(i, predicciones2[i], test_labels, test_images1)\n",
        "  plt.subplot(filas, 2*cols, 2*i+2)\n",
        "  plot_value_array(i, predicciones2[i], test_labels)\n",
        "plt.tight_layout()\n",
        "plt.show()"
      ],
      "execution_count": null,
      "outputs": [
        {
          "output_type": "display_data",
          "data": {
            "image/png": "[encoded data removed]",
            "text/plain": [
              "<Figure size 2016x288 with 28 Axes>"
            ]
          },
          "metadata": {
            "needs_background": "light"
          }
        }
      ]
    },
    {
      "cell_type": "markdown",
      "metadata": {
        "id": "KwTbidOKCcKX"
      },
      "source": [
        "El modelo 2 tiene una precisión de 96,42%  en este caso acierta las 10 primeras imágenes y con un porcentaje bastante alto por lo que podemos deducir que esta muestra se adecua a la precisión del modelo."
      ]
    },
    {
      "cell_type": "markdown",
      "metadata": {
        "id": "ripz6FacbAAy"
      },
      "source": [
        "##Modelo 3"
      ]
    },
    {
      "cell_type": "code",
      "metadata": {
        "id": "W3bEa9t6bEP9"
      },
      "source": [
        "def plot_image(i, predicciones3, true_label, img):\n",
        "  predicciones3, true_label, img = predicciones3, true_label[i], img[i]\n",
        "  plt.grid(False)\n",
        "  plt.xticks([])\n",
        "  plt.yticks([])\n",
        "\n",
        "  plt.imshow(img, cmap=plt.cm.binary)\n",
        "\n",
        "  predicted_label = np.argmax(predicciones3)\n",
        "  if predicted_label == true_label:\n",
        "    color = 'blue'\n",
        "  else:\n",
        "    color = 'red'\n",
        "\n",
        "  plt.xlabel(\"{} {:2.0f}% ({})\".format(class_names[predicted_label],\n",
        "                                100*np.max(predicciones3),\n",
        "                                class_names[true_label]),\n",
        "                                color=color)\n",
        "\n",
        "def plot_value_array(i, predicciones3, true_label):\n",
        "  predicciones3, true_label = predicciones3, true_label[i]\n",
        "  plt.grid(False)\n",
        "  plt.xticks(range(10))\n",
        "  plt.yticks([])\n",
        "  thisplot = plt.bar(range(10), predicciones3, color=\"#777777\")\n",
        "  plt.ylim([0, 1])\n",
        "  predicted_label = np.argmax(predicciones3)\n",
        "\n",
        "  thisplot[predicted_label].set_color('red')\n",
        "  thisplot[true_label].set_color('blue')"
      ],
      "execution_count": null,
      "outputs": []
    },
    {
      "cell_type": "code",
      "metadata": {
        "id": "q01AzmNj_EP9",
        "colab": {
          "base_uri": "https://localhost:8080/",
          "height": 317
        },
        "outputId": "a19a9e95-5027-4218-e9ef-6914384e1166"
      },
      "source": [
        "filas = 2\n",
        "cols = 7\n",
        "num_images = filas*cols\n",
        "plt.figure(figsize=(2*2*cols, 2*filas))\n",
        "for i in range(num_images):\n",
        "  plt.subplot(filas, 2*cols, 2*i+1)\n",
        "  plot_image(i, predicciones3[i], test_labels, test_images1)\n",
        "  plt.subplot(filas, 2*cols, 2*i+2)\n",
        "  plot_value_array(i, predicciones3[i], test_labels)\n",
        "plt.tight_layout()\n",
        "plt.show()"
      ],
      "execution_count": null,
      "outputs": [
        {
          "output_type": "display_data",
          "data": {
            "image/png": "[encoded data removed]",
            "text/plain": [
              "<Figure size 2016x288 with 28 Axes>"
            ]
          },
          "metadata": {
            "needs_background": "light"
          }
        }
      ]
    },
    {
      "cell_type": "markdown",
      "metadata": {
        "id": "rnk3OgS3DRvT"
      },
      "source": [
        "El modelo 3 tiene una precisión de 99,43% y la gráfica muestra como acierta en 10 de 10 casos lo cual es el resultado que podríamos esperar. "
      ]
    },
    {
      "cell_type": "markdown",
      "metadata": {
        "id": "BMbwD4Ha67Lp"
      },
      "source": [
        "#Apartado 8\n",
        "\n",
        "\n",
        "El mejor modelo de la primera práctica era el modelo 6 con el que obteníamos una precisión de test de 87,90 %. Con el mismo set de datos, y la misma tarea de clasificar imágenes de ropa en función de la clase a la que pertenece pero creando un Red Convolucional obtenemos una mayor precisión en el mejor modelo (modelo número # ). Y no solo eso sino que además todos los modelos tienen una precisión superior al 95%, valor que es muy superior a cualquiera de la Red neuronal anterior.\n",
        "Debido a este hecho, demostramos que la incorporación de capas convolucionales hacen que las Redes Neuronales sean más convenientes a la hora de realizar tareas de reconocimiento de imágenes. \n"
      ]
    },
    {
      "cell_type": "markdown",
      "metadata": {
        "id": "Z_m7gvrsMeAD"
      },
      "source": [
        "# Apartado 9\n",
        "\n",
        "El Dropout funciona de manera contraria al Bach normalization a efectos prácticos. En vez de facilitar la búsqueda de patrones concretos, fuerza a la RNA para que busque patrones mucho más generales, lo que evita el sobreentrenamiento, y consiguiendo una mayor precisión cuando se le meten nuevos datos, como los datos de test. Esto lo consigue bloqueando neuronas de manera aleatoria en cada iteración.\n",
        "\n",
        "Las RNA funcionan mejor cuando las imágenes estan la misma escala o en escalas muy similares. Bach Normalization se encarga de normalizar los datos antes de usarlos en los entrenamientos para que sean lo más parecidos posibles. Hace lo mismo con las salidas de las funciones. Esto permite que las RNA encuentren patrones de manenera más eficaz. Además, si los datos de entrada son muy dispersos, tras aplicar Bach normalization conseguimos una mayor precisión en las predicciones de la que tendríamos si no la hubieramos aplicado."
      ]
    },
    {
      "cell_type": "markdown",
      "metadata": {
        "id": "VFX-GyS2MjhA"
      },
      "source": [
        "#Apartado 10\n",
        "\n",
        "Los callbacks son recursos de python que nos permiten actuar dentro de las etapas durante el entrenamiento de una red. Se pueden usar de distintas maneras, pero la más importante es el early stopping, que nos sirve para detectar de manera rápida  el momento en el que nuestro modelo deja de aprender. Lo hace de manera rápida y nos ayuda a evitar el overfitting y el underfitting."
      ]
    },
    {
      "cell_type": "markdown",
      "metadata": {
        "id": "5MHb0WI9Mp1U"
      },
      "source": [
        "# Conclusión\n",
        "\n",
        "Para una misma tarea, en este caso clasificar imágenes  en función de la clase a la que pertenece, hemos creado muchos modelos diferentes con cambios que alteran el resultado. Estos pequeños cambios como, el número de épocas, función de activación, de pérdida, u el optimizador, hace que unos modelos sean más precisos que otros y que la diferencia entre la accuracy con los datos de pérdida y con los datos de test sea mayor o menor. El mejor modelo es el modelo 3 puesto que tiene una mayor precisión. Además, nos hemos dado cuentas que para la clasificación de imágenes  funcionan mucho mejor las redes convolucionales ya que el error es mucho menor en cualquier modelo de esta segunda práctica que el error cometido en los modelos de la práctica anterior."
      ]
    }
  ]
}